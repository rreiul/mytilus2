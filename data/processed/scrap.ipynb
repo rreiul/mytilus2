{
 "cells": [
  {
   "cell_type": "code",
   "execution_count": 268,
   "metadata": {},
   "outputs": [
    {
     "name": "stdout",
     "output_type": "stream",
     "text": [
      "         Polígono  Xan   Feb   Mar   Abr   Mai   Xun  Xull  Ago  Set  Out  \\\n",
      "0   Vilagarcía B1  NaN   NaN   NaN   NaN   NaN   NaN   NaN  NaN  NaN  NaN   \n",
      "1   Vilagarcía B2  NaN   NaN   NaN   NaN   NaN   NaN   NaN  NaN  NaN  NaN   \n",
      "2     A Pobra E.1  NaN   NaN   NaN   NaN   NaN   NaN   NaN  NaN  NaN  NaN   \n",
      "3     A Pobra E.2  NaN   NaN   NaN   NaN   NaN   NaN   NaN  NaN  NaN  NaN   \n",
      "4             NaN  NaN   NaN   NaN   NaN   NaN   NaN   NaN  NaN  NaN  NaN   \n",
      "..            ...  ...   ...   ...   ...   ...   ...   ...  ...  ...  ...   \n",
      "58    Redondela D  NaN   NaN   NaN   NaN   NaN   NaN   NaN  NaN  NaN  NaN   \n",
      "59    Redondela E  NaN   NaN   NaN   NaN   NaN   NaN   NaN  NaN  NaN  NaN   \n",
      "60         Vigo A  NaN   NaN   NaN   NaN   NaN   NaN   NaN  NaN  NaN  NaN   \n",
      "61            NaN  NaN   NaN   NaN   NaN   NaN   NaN   NaN  NaN  NaN  NaN   \n",
      "62       Baiona A  NaN  14.0  31.0  30.0  31.0  23.0   NaN  NaN  NaN  NaN   \n",
      "\n",
      "    Nov  Dec  Total  \n",
      "0   NaN  NaN    NaN  \n",
      "1   NaN  NaN    NaN  \n",
      "2   NaN  NaN    NaN  \n",
      "3   NaN  NaN    NaN  \n",
      "4   NaN  NaN    NaN  \n",
      "..  ...  ...    ...  \n",
      "58  NaN  NaN    NaN  \n",
      "59  NaN  NaN    NaN  \n",
      "60  NaN  NaN    NaN  \n",
      "61  NaN  NaN    NaN  \n",
      "62  NaN  NaN  129.0  \n",
      "\n",
      "[63 rows x 14 columns]\n"
     ]
    },
    {
     "name": "stderr",
     "output_type": "stream",
     "text": [
      "C:\\Users\\rmarc\\AppData\\Local\\Temp\\ipykernel_9900\\794804033.py:21: FutureWarning: Passing literal html to 'read_html' is deprecated and will be removed in a future version. To read from a literal string, wrap it in a 'StringIO' object.\n",
      "  df = pd.read_html(str(table))[0]\n"
     ]
    }
   ],
   "source": [
    "import requests\n",
    "from bs4 import BeautifulSoup\n",
    "import pandas as pd\n",
    "\n",
    "# URL de la página a scrapear\n",
    "url = 'http://www.intecmar.gal/Informacion/biotoxinas/Evolucion/CierresBatea.aspx'\n",
    "\n",
    "# Realizar la solicitud GET a la URL\n",
    "response = requests.get(url)\n",
    "\n",
    "# Verificar que la solicitud fue exitosa (código 200)\n",
    "if response.status_code == 200:\n",
    "    # Parsear el contenido HTML con BeautifulSoup\n",
    "    soup = BeautifulSoup(response.content, 'html.parser')\n",
    "    \n",
    "    # Encontrar la tabla por su ID (puedes inspeccionar el HTML para obtener el ID correcto)\n",
    "    table = soup.find('table', {'id': 'ctl00_Contenido_GridView2'})\n",
    "    \n",
    "    if table:\n",
    "        # Extraer los datos de la tabla y convertirlos a un DataFrame de pandas\n",
    "        df = pd.read_html(str(table))[0]\n",
    "        \n",
    "        # Mostrar el DataFrame\n",
    "        print(df)\n",
    "        \n",
    "        # También puedes guardar el DataFrame en un archivo CSV si lo deseas\n",
    "        df.to_csv('diascierre_hoy_aux.csv', index=False)\n",
    "    else:\n",
    "        print('No se encontró la tabla en la página.')\n",
    "else:\n",
    "    print('No se pudo acceder a la página.')\n"
   ]
  },
  {
   "cell_type": "code",
   "execution_count": 269,
   "metadata": {},
   "outputs": [],
   "source": [
    "df_hoy = pd.read_csv('diascierre_hoy_aux.csv')\n",
    "df_hoy = df_hoy.rename(columns={'Xan': '1', 'Feb': '2', 'Mar': '3', 'Abr': '4', 'Mai': '5', 'Xun': '6', 'Xull': '7', 'Ago': '8', 'Set': '9', 'Out': '10', 'Nov': '11', 'Dec': '12'})\n",
    "#df_hoy[['Xan','Feb','Mar','Abr','Mai','Xun','Xull','Ago','Set','Out','Nov','Dec']] = df_hoy[['Xan','Feb','Mar','Abr','Mai','Xun','Xull','Ago','Set','Out','Nov','Dec']].astype(int)\n",
    "df_hoy = df_hoy.fillna('0')\n",
    "\n",
    "df_hoy = df_hoy[df_hoy['Polígono'] != '0']\n",
    "df_hoy.to_csv('diascierre_hoy.csv', index=False)"
   ]
  },
  {
   "cell_type": "code",
   "execution_count": 270,
   "metadata": {},
   "outputs": [],
   "source": [
    "from datetime import datetime, timedelta\n",
    "\n",
    "hoy = datetime.now().date()\n",
    "hoy_fecha = hoy.strftime('%Y-%m-%d')\n",
    "ayer_fecha = hoy - timedelta(1)"
   ]
  },
  {
   "cell_type": "code",
   "execution_count": 271,
   "metadata": {},
   "outputs": [
    {
     "data": {
      "text/plain": [
       "40    8.0\n",
       "Name: 6, dtype: object"
      ]
     },
     "execution_count": 271,
     "metadata": {},
     "output_type": "execute_result"
    }
   ],
   "source": [
    "df_hoy_cangasb = df_hoy[df_hoy['Polígono'] == 'Cangas B']\n",
    "mes = hoy.month\n",
    "mes = str(mes)\n",
    "df_hoy_cangasb[mes]"
   ]
  },
  {
   "cell_type": "code",
   "execution_count": 272,
   "metadata": {},
   "outputs": [],
   "source": [
    "df2 = pd.DataFrame()\n",
    "\n",
    "for poligono in df_ayer['Polígono']:\n",
    "    df2.insert(0,poligono,0, True)\n",
    "df2.insert(0,'dia',0,True)\n",
    "df2.to_csv('diascierreabiertocerradoscrap.csv', index=False)"
   ]
  },
  {
   "cell_type": "code",
   "execution_count": 273,
   "metadata": {},
   "outputs": [],
   "source": [
    "df_ayer = pd.read_csv('diascierre_ayer.csv')\n",
    "\n",
    "for index, row_ayer in df_ayer.iterrows():\n",
    "    polig = row_ayer['Polígono']\n",
    "    df_hoy_poligono = df_hoy[df_hoy['Polígono'] == polig]\n",
    "    v_hoy = df_hoy_poligono[mes].iloc[0]\n",
    "    df_ayer_poligono = df_ayer[df_ayer['Polígono'] == polig]\n",
    "    v_ayer = df_ayer_poligono[mes].iloc[0]\n",
    "    v_hoy = int(v_hoy)\n",
    "    v_ayer = int(v_ayer)\n",
    "\n",
    "    existe_valor = (df2['dia'] == ayer_fecha).any()\n",
    "\n",
    "    if v_hoy != v_ayer:\n",
    "        if existe_valor:\n",
    "            df2[polig] = '1'\n",
    "        else: \n",
    "            nueva_fila = {'dia' : ayer_fecha, polig : '1'}\n",
    "            df2.loc[len(df2)] = nueva_fila\n",
    "    else:\n",
    "        if existe_valor:\n",
    "            df2[polig] = '0'\n",
    "        else: \n",
    "            nueva_fila = {'dia' : ayer_fecha, polig : '0'}\n",
    "            df2.loc[len(df2)] = nueva_fila\n",
    "\n",
    "df2.to_csv('prueba.csv', index=False)"
   ]
  }
 ],
 "metadata": {
  "kernelspec": {
   "display_name": "Python 3",
   "language": "python",
   "name": "python3"
  },
  "language_info": {
   "codemirror_mode": {
    "name": "ipython",
    "version": 3
   },
   "file_extension": ".py",
   "mimetype": "text/x-python",
   "name": "python",
   "nbconvert_exporter": "python",
   "pygments_lexer": "ipython3",
   "version": "3.11.9"
  }
 },
 "nbformat": 4,
 "nbformat_minor": 2
}
