{
 "cells": [
  {
   "cell_type": "code",
   "execution_count": 19,
   "metadata": {},
   "outputs": [
    {
     "name": "stderr",
     "output_type": "stream",
     "text": [
      "C:\\Users\\rmarc\\AppData\\Local\\Temp\\ipykernel_10088\\2202780330.py:25: FutureWarning: Series.fillna with 'method' is deprecated and will raise in a future version. Use obj.ffill() or obj.bfill() instead.\n",
      "  result['ao'] = result['ao'].fillna(method='ffill')\n"
     ]
    }
   ],
   "source": [
    "import pandas as pd\n",
    "import matplotlib.pyplot as plt\n",
    "\n",
    "df1 = pd.read_csv(\"../data/raw/iu.txt\")\n",
    "df1 = df1.dropna()\n",
    "df1['fecha'] = df1['Ano'].astype(str) + '-' + df1['Mes'].astype(str) + '-' + df1['Dia'].astype(str)\n",
    "df1['fecha'] = pd.to_datetime(df1['fecha'])\n",
    "df1 = df1.groupby('fecha').agg({\n",
    "    'U': 'mean',\n",
    "    'V': 'mean',\n",
    "    'UI': 'mean'\n",
    "})\n",
    "\n",
    "df2 = pd.read_csv(\"../data/raw/cangasb.csv\")\n",
    "df2['fecha'] = pd.to_datetime(df2['dia'], format=\"%d/%m/%Y\")\n",
    "\n",
    "df3 = pd.read_csv(\"../data/processed/medias.csv\")\n",
    "df3['fecha'] = pd.to_datetime(df3['fecha'])\n",
    "\n",
    "result = pd.merge(df1, df2, on='fecha', how='outer')\n",
    "\n",
    "# Unir el resultado con df3 también usando una unión externa\n",
    "result = pd.merge(result, df3, on='fecha', how='outer')\n",
    "\n",
    "result['ao'] = result['ao'].fillna(method='ffill')\n",
    "result = result.drop(columns=['U', 'V', 'dia'])\n",
    "result.to_csv('../data/processed/resultado.csv', index=False)\n",
    "\n",
    "\n"
   ]
  },
  {
   "cell_type": "code",
   "execution_count": 20,
   "metadata": {},
   "outputs": [
    {
     "ename": "NameError",
     "evalue": "name 'df_combined' is not defined",
     "output_type": "error",
     "traceback": [
      "\u001b[1;31m---------------------------------------------------------------------------\u001b[0m",
      "\u001b[1;31mNameError\u001b[0m                                 Traceback (most recent call last)",
      "Cell \u001b[1;32mIn[20], line 2\u001b[0m\n\u001b[0;32m      1\u001b[0m plt\u001b[38;5;241m.\u001b[39mfigure(figsize\u001b[38;5;241m=\u001b[39m(\u001b[38;5;241m18\u001b[39m,\u001b[38;5;241m6\u001b[39m))\n\u001b[1;32m----> 2\u001b[0m plt\u001b[38;5;241m.\u001b[39mplot(\u001b[43mdf_combined\u001b[49m\u001b[38;5;241m.\u001b[39mindex, df_combined[\u001b[38;5;124m'\u001b[39m\u001b[38;5;124mUI\u001b[39m\u001b[38;5;124m'\u001b[39m])\n\u001b[0;32m      3\u001b[0m plt\u001b[38;5;241m.\u001b[39mtitle(\u001b[38;5;124m'\u001b[39m\u001b[38;5;124mEvolución de estado de rías e índice afloramiento a lo largo del tiempo\u001b[39m\u001b[38;5;124m'\u001b[39m)\n\u001b[0;32m      4\u001b[0m plt\u001b[38;5;241m.\u001b[39mxlabel(\u001b[38;5;124m'\u001b[39m\u001b[38;5;124mFecha\u001b[39m\u001b[38;5;124m'\u001b[39m)\n",
      "\u001b[1;31mNameError\u001b[0m: name 'df_combined' is not defined"
     ]
    },
    {
     "data": {
      "text/plain": [
       "<Figure size 1800x600 with 0 Axes>"
      ]
     },
     "metadata": {},
     "output_type": "display_data"
    }
   ],
   "source": [
    "plt.figure(figsize=(18,6))\n",
    "plt.plot(df_combined.index, df_combined['UI'])\n",
    "plt.title('Evolución de estado de rías e índice afloramiento a lo largo del tiempo')\n",
    "plt.xlabel('Fecha')\n",
    "plt.ylabel('Índice afloramiento')\n",
    "\n",
    "for i in range(len(df_combined)):\n",
    "    current_index = df_combined.index[i]\n",
    "    color_value = df_combined['abierto/cerrado'].iloc[i]\n",
    "    if color_value == 1:\n",
    "        if i + 1 < len(df_combined):\n",
    "            next_index = df_combined.index[i + 1]\n",
    "        else:\n",
    "            next_index = df_combined.index[-1]   \n",
    "        plt.axvspan(current_index, next_index, color='red', alpha=0.3)\n",
    "        \n",
    "plt.legend()\n",
    "plt.grid(True)\n",
    "plt.show()"
   ]
  },
  {
   "cell_type": "code",
   "execution_count": null,
   "metadata": {},
   "outputs": [],
   "source": [
    "df_combined.to_csv('../data/processed/cangas_IU.csv')"
   ]
  }
 ],
 "metadata": {
  "kernelspec": {
   "display_name": "Python 3",
   "language": "python",
   "name": "python3"
  },
  "language_info": {
   "codemirror_mode": {
    "name": "ipython",
    "version": 3
   },
   "file_extension": ".py",
   "mimetype": "text/x-python",
   "name": "python",
   "nbconvert_exporter": "python",
   "pygments_lexer": "ipython3",
   "version": "3.11.9"
  }
 },
 "nbformat": 4,
 "nbformat_minor": 2
}
