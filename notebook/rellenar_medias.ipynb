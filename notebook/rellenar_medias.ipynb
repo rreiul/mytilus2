{
 "cells": [
  {
   "cell_type": "code",
   "execution_count": 6,
   "metadata": {},
   "outputs": [
    {
     "data": {
      "text/html": [
       "<div>\n",
       "<style scoped>\n",
       "    .dataframe tbody tr th:only-of-type {\n",
       "        vertical-align: middle;\n",
       "    }\n",
       "\n",
       "    .dataframe tbody tr th {\n",
       "        vertical-align: top;\n",
       "    }\n",
       "\n",
       "    .dataframe thead th {\n",
       "        text-align: right;\n",
       "    }\n",
       "</style>\n",
       "<table border=\"1\" class=\"dataframe\">\n",
       "  <thead>\n",
       "    <tr style=\"text-align: right;\">\n",
       "      <th></th>\n",
       "      <th>ao</th>\n",
       "    </tr>\n",
       "  </thead>\n",
       "  <tbody>\n",
       "    <tr>\n",
       "      <th>2014-01-16</th>\n",
       "      <td>94.8</td>\n",
       "    </tr>\n",
       "    <tr>\n",
       "      <th>2014-01-17</th>\n",
       "      <td>NaN</td>\n",
       "    </tr>\n",
       "    <tr>\n",
       "      <th>2014-01-18</th>\n",
       "      <td>NaN</td>\n",
       "    </tr>\n",
       "    <tr>\n",
       "      <th>2014-01-19</th>\n",
       "      <td>NaN</td>\n",
       "    </tr>\n",
       "    <tr>\n",
       "      <th>2014-01-20</th>\n",
       "      <td>NaN</td>\n",
       "    </tr>\n",
       "    <tr>\n",
       "      <th>...</th>\n",
       "      <td>...</td>\n",
       "    </tr>\n",
       "    <tr>\n",
       "      <th>2023-12-23</th>\n",
       "      <td>NaN</td>\n",
       "    </tr>\n",
       "    <tr>\n",
       "      <th>2023-12-24</th>\n",
       "      <td>NaN</td>\n",
       "    </tr>\n",
       "    <tr>\n",
       "      <th>2023-12-25</th>\n",
       "      <td>NaN</td>\n",
       "    </tr>\n",
       "    <tr>\n",
       "      <th>2023-12-26</th>\n",
       "      <td>NaN</td>\n",
       "    </tr>\n",
       "    <tr>\n",
       "      <th>2023-12-27</th>\n",
       "      <td>0.0</td>\n",
       "    </tr>\n",
       "  </tbody>\n",
       "</table>\n",
       "<p>3633 rows × 1 columns</p>\n",
       "</div>"
      ],
      "text/plain": [
       "              ao\n",
       "2014-01-16  94.8\n",
       "2014-01-17   NaN\n",
       "2014-01-18   NaN\n",
       "2014-01-19   NaN\n",
       "2014-01-20   NaN\n",
       "...          ...\n",
       "2023-12-23   NaN\n",
       "2023-12-24   NaN\n",
       "2023-12-25   NaN\n",
       "2023-12-26   NaN\n",
       "2023-12-27   0.0\n",
       "\n",
       "[3633 rows x 1 columns]"
      ]
     },
     "execution_count": 6,
     "metadata": {},
     "output_type": "execute_result"
    }
   ],
   "source": [
    "import pandas as pd\n",
    "\n",
    "# Crear el dataframe con tus datos\n",
    "data = pd.read_csv('../data/processed/medias2.csv')\n",
    "\n",
    "df = pd.DataFrame(data)\n",
    "\n",
    "# Convertir la columna 'fecha' al tipo datetime\n",
    "df['fecha'] = pd.to_datetime(df['fecha'])\n",
    "\n",
    "# Establecer la columna 'fecha' como índice\n",
    "df.set_index('fecha', inplace=True)\n",
    "\n",
    "# Reindexar para tener todas las fechas desde el primer día al último día presente en los datos\n",
    "idx = pd.date_range(df.index.min(), df.index.max())\n",
    "df = df.reindex(idx)\n",
    "df"
   ]
  },
  {
   "cell_type": "code",
   "execution_count": 7,
   "metadata": {},
   "outputs": [
    {
     "name": "stderr",
     "output_type": "stream",
     "text": [
      "C:\\Users\\rmarc\\AppData\\Local\\Temp\\ipykernel_21392\\810329799.py:2: FutureWarning: Series.fillna with 'method' is deprecated and will raise in a future version. Use obj.ffill() or obj.bfill() instead.\n",
      "  df['ao'] = df['ao'].fillna(method='ffill')\n"
     ]
    }
   ],
   "source": [
    "# Interpolar para llenar los valores faltantes\n",
    "df['ao'] = df['ao'].fillna(method='ffill')\n",
    "\n",
    "# Reiniciar el índice si lo deseas\n",
    "df = df.reset_index()\n",
    "\n",
    "#df['ao'] = df['ao'].apply(lambda x: 0 if x < 0 else x)\n",
    "df = df.rename(columns={'index': 'fecha'})\n",
    "\n",
    "# Mostrar el dataframe resultante\n",
    "df.to_csv('../data/processed/medias3.csv', index=False)\n"
   ]
  }
 ],
 "metadata": {
  "kernelspec": {
   "display_name": "Python 3",
   "language": "python",
   "name": "python3"
  },
  "language_info": {
   "codemirror_mode": {
    "name": "ipython",
    "version": 3
   },
   "file_extension": ".py",
   "mimetype": "text/x-python",
   "name": "python",
   "nbconvert_exporter": "python",
   "pygments_lexer": "ipython3",
   "version": "3.11.9"
  }
 },
 "nbformat": 4,
 "nbformat_minor": 2
}
