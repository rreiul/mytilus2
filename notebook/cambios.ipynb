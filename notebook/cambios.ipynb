{
 "cells": [
  {
   "cell_type": "code",
   "execution_count": 26,
   "metadata": {},
   "outputs": [
    {
     "data": {
      "text/html": [
       "<div>\n",
       "<style scoped>\n",
       "    .dataframe tbody tr th:only-of-type {\n",
       "        vertical-align: middle;\n",
       "    }\n",
       "\n",
       "    .dataframe tbody tr th {\n",
       "        vertical-align: top;\n",
       "    }\n",
       "\n",
       "    .dataframe thead th {\n",
       "        text-align: right;\n",
       "    }\n",
       "</style>\n",
       "<table border=\"1\" class=\"dataframe\">\n",
       "  <thead>\n",
       "    <tr style=\"text-align: right;\">\n",
       "      <th></th>\n",
       "      <th>fecha</th>\n",
       "      <th>abierto/cerrado</th>\n",
       "    </tr>\n",
       "  </thead>\n",
       "  <tbody>\n",
       "    <tr>\n",
       "      <th>0</th>\n",
       "      <td>2010-03-04</td>\n",
       "      <td>0</td>\n",
       "    </tr>\n",
       "    <tr>\n",
       "      <th>1</th>\n",
       "      <td>2010-03-05</td>\n",
       "      <td>0</td>\n",
       "    </tr>\n",
       "    <tr>\n",
       "      <th>2</th>\n",
       "      <td>2010-03-06</td>\n",
       "      <td>0</td>\n",
       "    </tr>\n",
       "    <tr>\n",
       "      <th>3</th>\n",
       "      <td>2010-03-07</td>\n",
       "      <td>0</td>\n",
       "    </tr>\n",
       "    <tr>\n",
       "      <th>4</th>\n",
       "      <td>2010-03-08</td>\n",
       "      <td>0</td>\n",
       "    </tr>\n",
       "    <tr>\n",
       "      <th>...</th>\n",
       "      <td>...</td>\n",
       "      <td>...</td>\n",
       "    </tr>\n",
       "    <tr>\n",
       "      <th>3101</th>\n",
       "      <td>2019-02-27</td>\n",
       "      <td>0</td>\n",
       "    </tr>\n",
       "    <tr>\n",
       "      <th>3102</th>\n",
       "      <td>2019-02-28</td>\n",
       "      <td>0</td>\n",
       "    </tr>\n",
       "    <tr>\n",
       "      <th>3103</th>\n",
       "      <td>2019-03-01</td>\n",
       "      <td>0</td>\n",
       "    </tr>\n",
       "    <tr>\n",
       "      <th>3104</th>\n",
       "      <td>2019-03-02</td>\n",
       "      <td>0</td>\n",
       "    </tr>\n",
       "    <tr>\n",
       "      <th>3105</th>\n",
       "      <td>2019-03-03</td>\n",
       "      <td>0</td>\n",
       "    </tr>\n",
       "  </tbody>\n",
       "</table>\n",
       "<p>3106 rows × 2 columns</p>\n",
       "</div>"
      ],
      "text/plain": [
       "           fecha  abierto/cerrado\n",
       "0     2010-03-04                0\n",
       "1     2010-03-05                0\n",
       "2     2010-03-06                0\n",
       "3     2010-03-07                0\n",
       "4     2010-03-08                0\n",
       "...          ...              ...\n",
       "3101  2019-02-27                0\n",
       "3102  2019-02-28                0\n",
       "3103  2019-03-01                0\n",
       "3104  2019-03-02                0\n",
       "3105  2019-03-03                0\n",
       "\n",
       "[3106 rows x 2 columns]"
      ]
     },
     "execution_count": 26,
     "metadata": {},
     "output_type": "execute_result"
    }
   ],
   "source": [
    "import pandas as pd\n",
    "import matplotlib.pyplot as plt\n",
    "\n",
    "data = pd.read_csv('../data/processed/cangas_IU_todo.csv')\n",
    "data = data.drop(columns={'UI'})\n",
    "data"
   ]
  },
  {
   "cell_type": "code",
   "execution_count": 27,
   "metadata": {},
   "outputs": [],
   "source": [
    "data['fecha'] = pd.to_datetime(data['fecha'])\n",
    "data['mes'] = data['fecha'].dt.month_name(locale='es_ES.utf8')  # Obtener nombre del mes en español\n",
    "data['año'] = data['fecha'].dt.year"
   ]
  },
  {
   "cell_type": "code",
   "execution_count": 28,
   "metadata": {},
   "outputs": [],
   "source": [
    "cambios_por_mes = data.groupby(['mes', 'año'])['abierto/cerrado'].apply(lambda x: (x != x.shift()).sum()).reset_index()"
   ]
  },
  {
   "cell_type": "code",
   "execution_count": 29,
   "metadata": {},
   "outputs": [
    {
     "name": "stdout",
     "output_type": "stream",
     "text": [
      "Abril : 1 : 5\n",
      "Abril : 2 : 3\n",
      "Agosto : 1 : 4\n",
      "Agosto : 2 : 4\n",
      "Agosto : 3 : 1\n",
      "Diciembre : 1 : 7\n",
      "Diciembre : 2 : 2\n",
      "Enero : 1 : 6\n",
      "Enero : 2 : 2\n",
      "Febrero : 1 : 6\n",
      "Febrero : 2 : 1\n",
      "Febrero : 3 : 1\n",
      "Julio : 1 : 6\n",
      "Julio : 2 : 3\n",
      "Junio : 1 : 6\n",
      "Junio : 3 : 2\n",
      "Marzo : 1 : 4\n",
      "Marzo : 2 : 5\n",
      "Mayo : 1 : 8\n",
      "Noviembre : 1 : 7\n",
      "Noviembre : 2 : 2\n",
      "Octubre : 1 : 6\n",
      "Octubre : 2 : 1\n",
      "Octubre : 3 : 2\n",
      "Septiembre : 1 : 6\n",
      "Septiembre : 2 : 1\n",
      "Septiembre : 3 : 2\n"
     ]
    }
   ],
   "source": [
    "# Crear un diccionario para almacenar los conteos por mes\n",
    "conteo_meses = {}\n",
    "\n",
    "# Iterar sobre cada fila del DataFrame agrupado\n",
    "for index, row in cambios_por_mes.iterrows():\n",
    "    mes_año = f\"{row['mes']} : {row['abierto/cerrado']}\"\n",
    "    if mes_año in conteo_meses:\n",
    "        conteo_meses[mes_año] += 1\n",
    "    else:\n",
    "        conteo_meses[mes_año] = 1\n",
    "\n",
    "# Imprimir el resultado ordenado por mes\n",
    "for mes_año, conteo in sorted(conteo_meses.items()):\n",
    "    print(f\"{mes_año} : {conteo}\")\n"
   ]
  }
 ],
 "metadata": {
  "kernelspec": {
   "display_name": "Python 3",
   "language": "python",
   "name": "python3"
  },
  "language_info": {
   "codemirror_mode": {
    "name": "ipython",
    "version": 3
   },
   "file_extension": ".py",
   "mimetype": "text/x-python",
   "name": "python",
   "nbconvert_exporter": "python",
   "pygments_lexer": "ipython3",
   "version": "3.11.9"
  }
 },
 "nbformat": 4,
 "nbformat_minor": 2
}
